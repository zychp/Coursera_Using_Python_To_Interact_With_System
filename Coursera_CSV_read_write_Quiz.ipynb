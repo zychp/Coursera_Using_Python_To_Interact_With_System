{
  "nbformat": 4,
  "nbformat_minor": 0,
  "metadata": {
    "colab": {
      "name": "Kopia notatnika Coursera_CSV_read_write_Quiz.ipynb",
      "provenance": []
    },
    "kernelspec": {
      "name": "python3",
      "display_name": "Python 3"
    },
    "language_info": {
      "name": "python"
    }
  },
  "cells": [
    {
      "cell_type": "code",
      "execution_count": null,
      "metadata": {
        "colab": {
          "base_uri": "https://localhost:8080/"
        },
        "id": "dJyF0f-P4phk",
        "outputId": "b53d6c0f-d229-470d-aaab-41c004349390"
      },
      "outputs": [
        {
          "output_type": "stream",
          "name": "stdout",
          "text": [
            "a pink carnation is annual\n",
            "a yellow daffodil is perennial\n",
            "a blue iris is perennial\n",
            "a red poinsettia is perennial\n",
            "a yellow sunflower is annual\n",
            "\n"
          ]
        }
      ],
      "source": [
        "import os\n",
        "import csv\n",
        "\n",
        "# Create a file with data in it\n",
        "def create_file(filename):\n",
        "  with open(filename, \"w\") as filee:\n",
        "    filee.write(\"name,color,type\")\n",
        "    filee.write(\"\\n\")\n",
        "    filee.write(\"carnation,pink,annual\")\n",
        "    filee.write(\"\\n\")\n",
        "    filee.write(\"daffodil,yellow,perennial\")\n",
        "    filee.write(\"\\n\")\n",
        "    filee.write(\"iris,blue,perennial\")\n",
        "    filee.write(\"\\n\")\n",
        "    filee.write(\"poinsettia,red,perennial\")\n",
        "    filee.write(\"\\n\")\n",
        "    filee.write(\"sunflower,yellow,annual\")\n",
        "    filee.write(\"\\n\")\n",
        "\n",
        "# Read the file contents and format the information about each row\n",
        "def contents_of_file(filename):\n",
        "  return_string = \"\"\n",
        "\n",
        "  # Call the function to create the file \n",
        "  create_file(filename)\n",
        "\n",
        "  # Open the file\n",
        "  with open(filename) as filee:\n",
        "    # Read the rows of the file into a dictionary\n",
        "    reader = csv.DictReader(filee)\n",
        "    # Process each item of the dictionary\n",
        "    for row in reader:\n",
        "      return_string += \"a {} {} is {}\".format(row[\"color\"], row[\"name\"], row[\"type\"])\n",
        "      return_string += \"\\n\"\n",
        "  return return_string\n",
        "\n",
        "#Call the function\n",
        "print(contents_of_file(\"flowers.csv\"))"
      ]
    },
    {
      "cell_type": "code",
      "source": [
        "cat flowers.csv"
      ],
      "metadata": {
        "colab": {
          "base_uri": "https://localhost:8080/"
        },
        "id": "22appmW15a8g",
        "outputId": "c5635d6b-2dd6-4a43-e600-5f43453c6439"
      },
      "execution_count": null,
      "outputs": [
        {
          "output_type": "stream",
          "name": "stdout",
          "text": [
            "name,color,type\n",
            "carnation,pink,annual\n",
            "daffodil,yellow,perennial\n",
            "iris,blue,perennial\n",
            "poinsettia,red,perennial\n",
            "sunflower,yellow,annual\n"
          ]
        }
      ]
    },
    {
      "cell_type": "code",
      "source": [
        ""
      ],
      "metadata": {
        "id": "qRCqu4NF5sJf"
      },
      "execution_count": null,
      "outputs": []
    }
  ]
}