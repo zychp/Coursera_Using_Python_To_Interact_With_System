{
  "nbformat": 4,
  "nbformat_minor": 0,
  "metadata": {
    "colab": {
      "name": "Week3_Quiz_5_changing_phone_number_format.ipynb",
      "provenance": [],
      "collapsed_sections": []
    },
    "kernelspec": {
      "name": "python3",
      "display_name": "Python 3"
    },
    "language_info": {
      "name": "python"
    }
  },
  "cells": [
    {
      "cell_type": "code",
      "execution_count": 10,
      "metadata": {
        "colab": {
          "base_uri": "https://localhost:8080/"
        },
        "id": "cTrS2BHOAvxZ",
        "outputId": "33703c8b-1aca-4474-b339-24f62f440da5"
      },
      "outputs": [
        {
          "output_type": "stream",
          "name": "stdout",
          "text": [
            "My number is (212) 345-9999.\n",
            "Please call (888) 555-1234\n",
            "123-123-12345\n",
            "Phone number of Buckingham Palace is +44 303 123 7300\n"
          ]
        }
      ],
      "source": [
        "import re\n",
        "def convert_phone_number(phone):\n",
        "  result = re.sub(r\"(\\d{3})-(\\d{3})-(\\d{4})\\b\",r\"(\\1) \\2-\\3\",phone) \n",
        "  return result\n",
        "\n",
        "print(convert_phone_number(\"My number is 212-345-9999.\")) # My number is (212) 345-9999.\n",
        "print(convert_phone_number(\"Please call 888-555-1234\")) # Please call (888) 555-1234\n",
        "print(convert_phone_number(\"123-123-12345\")) # 123-123-12345\n",
        "print(convert_phone_number(\"Phone number of Buckingham Palace is +44 303 123 7300\")) # Phone number of Buckingham Palace is +44 303 123 7300"
      ]
    },
    {
      "cell_type": "code",
      "source": [
        ""
      ],
      "metadata": {
        "id": "BUGsjEYIYaQb"
      },
      "execution_count": null,
      "outputs": []
    }
  ]
}